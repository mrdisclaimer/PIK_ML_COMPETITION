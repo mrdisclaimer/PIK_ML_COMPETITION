{
 "cells": [
  {
   "cell_type": "code",
   "execution_count": 1,
   "metadata": {},
   "outputs": [
    {
     "name": "stderr",
     "output_type": "stream",
     "text": [
      "Using TensorFlow backend.\n"
     ]
    }
   ],
   "source": [
    "import pandas as pd\n",
    "import numpy as np\n",
    "import sklearn as sk\n",
    "import catboost\n",
    "import xgboost as xgb\n",
    "import glob\n",
    "\n",
    "from keras.models import Sequential\n",
    "from keras.layers import Dense\n",
    "from keras import backend as K\n",
    "from keras import optimizers\n",
    "from keras import regularizers\n",
    "\n",
    "from sklearn.model_selection import train_test_split\n",
    "from matplotlib import pyplot as plt\n",
    "%matplotlib inline"
   ]
  },
  {
   "cell_type": "code",
   "execution_count": 2,
   "metadata": {},
   "outputs": [],
   "source": [
    "STATUS = './status.csv'\n",
    "DESCR = './comment.xlsx'\n",
    "SAMPLE = './sample submission.csv'\n",
    "TEST = './test.csv'\n",
    "FLAT = './flat.csv'\n",
    "PRICE = './price.csv'\n",
    "TRAIN = './train.csv'"
   ]
  },
  {
   "cell_type": "markdown",
   "metadata": {},
   "source": [
    "# Import data"
   ]
  },
  {
   "cell_type": "code",
   "execution_count": 3,
   "metadata": {},
   "outputs": [],
   "source": [
    "train = pd.read_csv(TRAIN)\n",
    "test = pd.read_csv(TEST)"
   ]
  },
  {
   "cell_type": "markdown",
   "metadata": {},
   "source": [
    "# Main handler"
   ]
  },
  {
   "cell_type": "code",
   "execution_count": 4,
   "metadata": {},
   "outputs": [],
   "source": [
    "def handler(data, test=False):\n",
    "    \n",
    "    ds = data.copy(deep=True)\n",
    "    cols = ds.columns\n",
    "    \n",
    "    # Extract categorical data\n",
    "    categorical_columns = list(set(train.columns) - set(train._get_numeric_data().columns))\n",
    "\n",
    "\n",
    "    # One hot encoding categorical cols\n",
    "    for col in categorical_columns:\n",
    "        if ((ds[col][0] == \"да\") or (ds[col][0] == \"нет\")):\n",
    "            ds[col] = ds[col].map(lambda x: 1 if (x == \"да\") else 0).copy(deep=True)\n",
    "            \n",
    "    # Normalizing\n",
    "    ds[\"Количество помещений\"] = (ds[\"Количество помещений\"] / 5579).copy(deep=True) # max\n",
    "    ds[\"price\"] = (ds[\"price\"] / 300000).copy(deep=True) # max\n",
    "    ds[\"Детский сад\"] = (ds[\"Детский сад\"] / 1000).copy(deep=True) # max\n",
    "    ds[\"Машиномест\"] = (ds[\"Машиномест\"] / 10000).copy(deep=True) # max\n",
    "    ds[\"Площадь пром. зоны в радиусе 500 м\"] = (ds[\"Площадь пром. зоны в радиусе 500 м\"] / 378372).copy(deep=True)\n",
    "    ds[\"Площадь зеленой зоны в радиусе 500 м\"] = (ds[\"Площадь зеленой зоны в радиусе 500 м\"] / 516706).copy(deep=True)\n",
    "    ds[\"Площадь двора\"] = (ds[\"Площадь двора\"] / 16473).copy(deep=True) # max\n",
    "    ds[\"Школа\"] = (ds[\"Школа\"] / 3250).copy(deep=True) # max\n",
    "    ds[\"Поликлиника\"] = (ds[\"Поликлиника\"] / 600).copy(deep=True) # max\n",
    "    \n",
    "    # Create year columns\n",
    "    #ds[\"year\"] = ds[\"date1\"][0:4].copy(deep=True)\n",
    "    \n",
    "    # Object class one hot encoding\n",
    "    ohoc = pd.get_dummies(ds[\"Класс объекта\"]) # One hot object class\n",
    "    for col in ohoc:\n",
    "        ds[col] = ohoc[col].copy(deep=True)\n",
    "    \n",
    "    # Delete useless columns \n",
    "    del ds[\"bulk_id\"]\n",
    "    if (test == False):\n",
    "        del ds[\"plan_s\"]\n",
    "        del ds[\"plan_m\"]\n",
    "        del ds[\"plan_l\"]\n",
    "        del ds[\"vid_0\"]\n",
    "        del ds[\"vid_1\"]\n",
    "        del ds[\"vid_2\"]\n",
    "        del ds[\"start_square\"]\n",
    "    del ds[\"date1\"]\n",
    "    del ds[\"id\"]\n",
    "    del ds[\"Лифт\"]\n",
    "    del ds[\"Спортивная площадка\"]\n",
    "    del ds[\"Входные группы\"]\n",
    "    del ds[\"Система мусоротведения\"]\n",
    "    del ds[\"Класс объекта\"]\n",
    "    \n",
    "    return ds"
   ]
  },
  {
   "cell_type": "markdown",
   "metadata": {},
   "source": [
    "# CV splitter"
   ]
  },
  {
   "cell_type": "code",
   "execution_count": 166,
   "metadata": {},
   "outputs": [],
   "source": [
    "def get_train_test(train, sz=0.2):\n",
    "    X = train.copy(deep=True)\n",
    "    y = X[\"value\"]\n",
    "    del X[\"value\"]\n",
    "    X_train, X_test, y_train, y_test = train_test_split(X, y, test_size=sz)\n",
    "\n",
    "    return X_train, X_test, y_train, y_test"
   ]
  },
  {
   "cell_type": "code",
   "execution_count": 167,
   "metadata": {},
   "outputs": [],
   "source": [
    "newds = handler(train) # test, test=True\n",
    "newds_tst = handler(test, test=True) # test, test=True"
   ]
  },
  {
   "cell_type": "code",
   "execution_count": 168,
   "metadata": {},
   "outputs": [],
   "source": [
    "X_train, X_test, y_train, y_test = get_train_test(newds, sz=0.1)"
   ]
  },
  {
   "cell_type": "code",
   "execution_count": 169,
   "metadata": {},
   "outputs": [
    {
     "data": {
      "text/html": [
       "<div>\n",
       "<style scoped>\n",
       "    .dataframe tbody tr th:only-of-type {\n",
       "        vertical-align: middle;\n",
       "    }\n",
       "\n",
       "    .dataframe tbody tr th {\n",
       "        vertical-align: top;\n",
       "    }\n",
       "\n",
       "    .dataframe thead th {\n",
       "        text-align: right;\n",
       "    }\n",
       "</style>\n",
       "<table border=\"1\" class=\"dataframe\">\n",
       "  <thead>\n",
       "    <tr style=\"text-align: right;\">\n",
       "      <th></th>\n",
       "      <th>spalen</th>\n",
       "      <th>price</th>\n",
       "      <th>mean_sq</th>\n",
       "      <th>mean_fl</th>\n",
       "      <th>month</th>\n",
       "      <th>month_cnt</th>\n",
       "      <th>Количество помещений</th>\n",
       "      <th>Огорожена территория</th>\n",
       "      <th>Площадь земельного участка</th>\n",
       "      <th>Детский сад</th>\n",
       "      <th>...</th>\n",
       "      <th>Станций метро от кольца</th>\n",
       "      <th>Площадь двора</th>\n",
       "      <th>Курс</th>\n",
       "      <th>Cтавка по ипотеке</th>\n",
       "      <th>Вклады до 1 года</th>\n",
       "      <th>Вклады от 1 года до 3 лет</th>\n",
       "      <th>Вклады свыше 3 лет</th>\n",
       "      <th>комфорт</th>\n",
       "      <th>стандарт</th>\n",
       "      <th>эконом</th>\n",
       "    </tr>\n",
       "  </thead>\n",
       "  <tbody>\n",
       "    <tr>\n",
       "      <th>4087</th>\n",
       "      <td>0</td>\n",
       "      <td>0.365208</td>\n",
       "      <td>27.13</td>\n",
       "      <td>5</td>\n",
       "      <td>2</td>\n",
       "      <td>26</td>\n",
       "      <td>0.660513</td>\n",
       "      <td>0</td>\n",
       "      <td>41.00</td>\n",
       "      <td>0.900</td>\n",
       "      <td>...</td>\n",
       "      <td>8.0</td>\n",
       "      <td>0.369271</td>\n",
       "      <td>58.539361</td>\n",
       "      <td>11.76</td>\n",
       "      <td>6.40</td>\n",
       "      <td>6.94</td>\n",
       "      <td>7.69</td>\n",
       "      <td>0</td>\n",
       "      <td>0</td>\n",
       "      <td>1</td>\n",
       "    </tr>\n",
       "    <tr>\n",
       "      <th>1683</th>\n",
       "      <td>0</td>\n",
       "      <td>0.478167</td>\n",
       "      <td>20.72</td>\n",
       "      <td>8</td>\n",
       "      <td>6</td>\n",
       "      <td>30</td>\n",
       "      <td>1.000000</td>\n",
       "      <td>0</td>\n",
       "      <td>20.60</td>\n",
       "      <td>0.660</td>\n",
       "      <td>...</td>\n",
       "      <td>9.0</td>\n",
       "      <td>0.498027</td>\n",
       "      <td>57.893176</td>\n",
       "      <td>11.26</td>\n",
       "      <td>5.73</td>\n",
       "      <td>6.42</td>\n",
       "      <td>7.97</td>\n",
       "      <td>1</td>\n",
       "      <td>0</td>\n",
       "      <td>0</td>\n",
       "    </tr>\n",
       "    <tr>\n",
       "      <th>8535</th>\n",
       "      <td>1</td>\n",
       "      <td>0.595605</td>\n",
       "      <td>38.26</td>\n",
       "      <td>9</td>\n",
       "      <td>12</td>\n",
       "      <td>24</td>\n",
       "      <td>0.648324</td>\n",
       "      <td>0</td>\n",
       "      <td>35.00</td>\n",
       "      <td>0.650</td>\n",
       "      <td>...</td>\n",
       "      <td>4.0</td>\n",
       "      <td>0.391125</td>\n",
       "      <td>62.091291</td>\n",
       "      <td>12.21</td>\n",
       "      <td>6.75</td>\n",
       "      <td>7.16</td>\n",
       "      <td>8.50</td>\n",
       "      <td>1</td>\n",
       "      <td>0</td>\n",
       "      <td>0</td>\n",
       "    </tr>\n",
       "    <tr>\n",
       "      <th>8337</th>\n",
       "      <td>0</td>\n",
       "      <td>0.699358</td>\n",
       "      <td>19.80</td>\n",
       "      <td>15</td>\n",
       "      <td>8</td>\n",
       "      <td>32</td>\n",
       "      <td>0.153253</td>\n",
       "      <td>0</td>\n",
       "      <td>3.40</td>\n",
       "      <td>0.000</td>\n",
       "      <td>...</td>\n",
       "      <td>4.0</td>\n",
       "      <td>0.107995</td>\n",
       "      <td>59.612726</td>\n",
       "      <td>10.87</td>\n",
       "      <td>6.19</td>\n",
       "      <td>6.70</td>\n",
       "      <td>7.76</td>\n",
       "      <td>1</td>\n",
       "      <td>0</td>\n",
       "      <td>0</td>\n",
       "    </tr>\n",
       "    <tr>\n",
       "      <th>8141</th>\n",
       "      <td>0</td>\n",
       "      <td>0.525571</td>\n",
       "      <td>25.10</td>\n",
       "      <td>18</td>\n",
       "      <td>3</td>\n",
       "      <td>27</td>\n",
       "      <td>0.077433</td>\n",
       "      <td>0</td>\n",
       "      <td>4.68</td>\n",
       "      <td>0.125</td>\n",
       "      <td>...</td>\n",
       "      <td>10.0</td>\n",
       "      <td>0.242822</td>\n",
       "      <td>58.006632</td>\n",
       "      <td>11.88</td>\n",
       "      <td>5.94</td>\n",
       "      <td>6.81</td>\n",
       "      <td>6.63</td>\n",
       "      <td>1</td>\n",
       "      <td>0</td>\n",
       "      <td>0</td>\n",
       "    </tr>\n",
       "  </tbody>\n",
       "</table>\n",
       "<p>5 rows × 43 columns</p>\n",
       "</div>"
      ],
      "text/plain": [
       "      spalen     price  mean_sq  mean_fl  month  month_cnt  \\\n",
       "4087       0  0.365208    27.13        5      2         26   \n",
       "1683       0  0.478167    20.72        8      6         30   \n",
       "8535       1  0.595605    38.26        9     12         24   \n",
       "8337       0  0.699358    19.80       15      8         32   \n",
       "8141       0  0.525571    25.10       18      3         27   \n",
       "\n",
       "      Количество помещений  Огорожена территория  Площадь земельного участка  \\\n",
       "4087              0.660513                     0                       41.00   \n",
       "1683              1.000000                     0                       20.60   \n",
       "8535              0.648324                     0                       35.00   \n",
       "8337              0.153253                     0                        3.40   \n",
       "8141              0.077433                     0                        4.68   \n",
       "\n",
       "      Детский сад   ...    Станций метро от кольца  Площадь двора       Курс  \\\n",
       "4087        0.900   ...                        8.0       0.369271  58.539361   \n",
       "1683        0.660   ...                        9.0       0.498027  57.893176   \n",
       "8535        0.650   ...                        4.0       0.391125  62.091291   \n",
       "8337        0.000   ...                        4.0       0.107995  59.612726   \n",
       "8141        0.125   ...                       10.0       0.242822  58.006632   \n",
       "\n",
       "      Cтавка по ипотеке  Вклады до 1 года  Вклады от 1 года до 3 лет  \\\n",
       "4087              11.76              6.40                       6.94   \n",
       "1683              11.26              5.73                       6.42   \n",
       "8535              12.21              6.75                       7.16   \n",
       "8337              10.87              6.19                       6.70   \n",
       "8141              11.88              5.94                       6.81   \n",
       "\n",
       "      Вклады свыше 3 лет  комфорт  стандарт  эконом  \n",
       "4087                7.69        0         0       1  \n",
       "1683                7.97        1         0       0  \n",
       "8535                8.50        1         0       0  \n",
       "8337                7.76        1         0       0  \n",
       "8141                6.63        1         0       0  \n",
       "\n",
       "[5 rows x 43 columns]"
      ]
     },
     "execution_count": 169,
     "metadata": {},
     "output_type": "execute_result"
    }
   ],
   "source": [
    "X_train.head()"
   ]
  },
  {
   "cell_type": "markdown",
   "metadata": {},
   "source": [
    "\n",
    "# CatBoost"
   ]
  },
  {
   "cell_type": "code",
   "execution_count": 170,
   "metadata": {
    "scrolled": false
   },
   "outputs": [
    {
     "name": "stdout",
     "output_type": "stream",
     "text": [
      "Training model 1/50 with depth=7 ...\n",
      "218.80750558327628\n",
      "\n",
      "Training model 2/50 with depth=5 ...\n",
      "238.02279662174314\n",
      "\n",
      "Training model 3/50 with depth=4 ...\n",
      "244.82114202909509\n",
      "\n",
      "Training model 4/50 with depth=6 ...\n",
      "243.2006710764648\n",
      "\n",
      "Training model 5/50 with depth=5 ...\n",
      "244.8631997750722\n",
      "\n",
      "Training model 6/50 with depth=6 ...\n",
      "242.0069334639376\n",
      "\n",
      "Training model 7/50 with depth=8 ...\n",
      "239.43975780914232\n",
      "\n",
      "Training model 8/50 with depth=5 ...\n",
      "240.15989023775103\n",
      "\n",
      "Training model 9/50 with depth=7 ...\n",
      "239.74923567437332\n",
      "\n",
      "Training model 10/50 with depth=9 ...\n",
      "239.4111252740062\n",
      "\n",
      "Training model 11/50 with depth=8 ...\n",
      "239.83140356036859\n",
      "\n",
      "Training model 12/50 with depth=6 ...\n",
      "241.58971234178628\n",
      "\n",
      "Training model 13/50 with depth=4 ...\n",
      "243.78966634147542\n",
      "\n",
      "Training model 14/50 with depth=8 ...\n"
     ]
    },
    {
     "ename": "KeyboardInterrupt",
     "evalue": "",
     "output_type": "error",
     "traceback": [
      "\u001b[0;31m---------------------------------------------------------------------------\u001b[0m",
      "\u001b[0;31mKeyboardInterrupt\u001b[0m                         Traceback (most recent call last)",
      "\u001b[0;32m<ipython-input-170-13c589b91cf0>\u001b[0m in \u001b[0;36m<module>\u001b[0;34m()\u001b[0m\n\u001b[1;32m     14\u001b[0m                                              \u001b[0miterations\u001b[0m\u001b[0;34m=\u001b[0m\u001b[0;36m2500\u001b[0m\u001b[0;34m,\u001b[0m\u001b[0;34m\u001b[0m\u001b[0m\n\u001b[1;32m     15\u001b[0m                                              \u001b[0mdepth\u001b[0m\u001b[0;34m=\u001b[0m\u001b[0md\u001b[0m\u001b[0;34m,\u001b[0m\u001b[0;34m\u001b[0m\u001b[0m\n\u001b[0;32m---> 16\u001b[0;31m                                              verbose=False).fit(X_train, y_train))\n\u001b[0m\u001b[1;32m     17\u001b[0m     \u001b[0mbag_ret\u001b[0m \u001b[0;34m=\u001b[0m \u001b[0;34m(\u001b[0m\u001b[0msum\u001b[0m\u001b[0;34m(\u001b[0m\u001b[0;34m(\u001b[0m\u001b[0mmodels\u001b[0m\u001b[0;34m[\u001b[0m\u001b[0mi\u001b[0m\u001b[0;34m]\u001b[0m\u001b[0;34m.\u001b[0m\u001b[0mpredict\u001b[0m\u001b[0;34m(\u001b[0m\u001b[0mX_test\u001b[0m\u001b[0;34m)\u001b[0m \u001b[0;34m-\u001b[0m \u001b[0my_test\u001b[0m\u001b[0;34m)\u001b[0m \u001b[0;34m**\u001b[0m \u001b[0;36m2\u001b[0m\u001b[0;34m)\u001b[0m \u001b[0;34m/\u001b[0m \u001b[0mlen\u001b[0m\u001b[0;34m(\u001b[0m\u001b[0mX_test\u001b[0m\u001b[0;34m)\u001b[0m\u001b[0;34m)\u001b[0m \u001b[0;34m**\u001b[0m \u001b[0;34m(\u001b[0m\u001b[0;36m1\u001b[0m\u001b[0;34m/\u001b[0m\u001b[0;36m2\u001b[0m\u001b[0;34m)\u001b[0m\u001b[0;34m\u001b[0m\u001b[0m\n\u001b[1;32m     18\u001b[0m     \u001b[0mbagging_errors\u001b[0m\u001b[0;34m.\u001b[0m\u001b[0mappend\u001b[0m\u001b[0;34m(\u001b[0m\u001b[0mbag_ret\u001b[0m\u001b[0;34m)\u001b[0m\u001b[0;34m\u001b[0m\u001b[0m\n",
      "\u001b[0;32m/usr/local/lib/python3.6/dist-packages/catboost/core.py\u001b[0m in \u001b[0;36mfit\u001b[0;34m(self, X, y, cat_features, sample_weight, baseline, use_best_model, eval_set, verbose, logging_level, plot, column_description, verbose_eval)\u001b[0m\n\u001b[1;32m   2003\u001b[0m         \u001b[0mmodel\u001b[0m \u001b[0;34m:\u001b[0m \u001b[0mCatBoost\u001b[0m\u001b[0;34m\u001b[0m\u001b[0m\n\u001b[1;32m   2004\u001b[0m         \"\"\"\n\u001b[0;32m-> 2005\u001b[0;31m         \u001b[0;32mreturn\u001b[0m \u001b[0mself\u001b[0m\u001b[0;34m.\u001b[0m\u001b[0m_fit\u001b[0m\u001b[0;34m(\u001b[0m\u001b[0mX\u001b[0m\u001b[0;34m,\u001b[0m \u001b[0my\u001b[0m\u001b[0;34m,\u001b[0m \u001b[0mcat_features\u001b[0m\u001b[0;34m,\u001b[0m \u001b[0;32mNone\u001b[0m\u001b[0;34m,\u001b[0m \u001b[0msample_weight\u001b[0m\u001b[0;34m,\u001b[0m \u001b[0;32mNone\u001b[0m\u001b[0;34m,\u001b[0m \u001b[0;32mNone\u001b[0m\u001b[0;34m,\u001b[0m \u001b[0;32mNone\u001b[0m\u001b[0;34m,\u001b[0m \u001b[0mbaseline\u001b[0m\u001b[0;34m,\u001b[0m \u001b[0muse_best_model\u001b[0m\u001b[0;34m,\u001b[0m \u001b[0meval_set\u001b[0m\u001b[0;34m,\u001b[0m \u001b[0mverbose\u001b[0m\u001b[0;34m,\u001b[0m \u001b[0mlogging_level\u001b[0m\u001b[0;34m,\u001b[0m \u001b[0mplot\u001b[0m\u001b[0;34m,\u001b[0m \u001b[0mcolumn_description\u001b[0m\u001b[0;34m,\u001b[0m \u001b[0mverbose_eval\u001b[0m\u001b[0;34m)\u001b[0m\u001b[0;34m\u001b[0m\u001b[0m\n\u001b[0m\u001b[1;32m   2006\u001b[0m \u001b[0;34m\u001b[0m\u001b[0m\n\u001b[1;32m   2007\u001b[0m     \u001b[0;32mdef\u001b[0m \u001b[0mpredict\u001b[0m\u001b[0;34m(\u001b[0m\u001b[0mself\u001b[0m\u001b[0;34m,\u001b[0m \u001b[0mdata\u001b[0m\u001b[0;34m,\u001b[0m \u001b[0mntree_start\u001b[0m\u001b[0;34m=\u001b[0m\u001b[0;36m0\u001b[0m\u001b[0;34m,\u001b[0m \u001b[0mntree_end\u001b[0m\u001b[0;34m=\u001b[0m\u001b[0;36m0\u001b[0m\u001b[0;34m,\u001b[0m \u001b[0mthread_count\u001b[0m\u001b[0;34m=\u001b[0m\u001b[0;34m-\u001b[0m\u001b[0;36m1\u001b[0m\u001b[0;34m,\u001b[0m \u001b[0mverbose\u001b[0m\u001b[0;34m=\u001b[0m\u001b[0;32mNone\u001b[0m\u001b[0;34m)\u001b[0m\u001b[0;34m:\u001b[0m\u001b[0;34m\u001b[0m\u001b[0m\n",
      "\u001b[0;32m/usr/local/lib/python3.6/dist-packages/catboost/core.py\u001b[0m in \u001b[0;36m_fit\u001b[0;34m(self, X, y, cat_features, pairs, sample_weight, group_id, subgroup_id, pairs_weight, baseline, use_best_model, eval_set, verbose, logging_level, plot, column_description, verbose_eval)\u001b[0m\n\u001b[1;32m    784\u001b[0m \u001b[0;34m\u001b[0m\u001b[0m\n\u001b[1;32m    785\u001b[0m         \u001b[0;32mwith\u001b[0m \u001b[0mlog_fixup\u001b[0m\u001b[0;34m(\u001b[0m\u001b[0;34m)\u001b[0m\u001b[0;34m:\u001b[0m\u001b[0;34m\u001b[0m\u001b[0m\n\u001b[0;32m--> 786\u001b[0;31m             \u001b[0mself\u001b[0m\u001b[0;34m.\u001b[0m\u001b[0m_train\u001b[0m\u001b[0;34m(\u001b[0m\u001b[0mtrain_pool\u001b[0m\u001b[0;34m,\u001b[0m \u001b[0meval_set\u001b[0m\u001b[0;34m,\u001b[0m \u001b[0mparams\u001b[0m\u001b[0;34m,\u001b[0m \u001b[0mallow_clear_pool\u001b[0m\u001b[0;34m)\u001b[0m\u001b[0;34m\u001b[0m\u001b[0m\n\u001b[0m\u001b[1;32m    787\u001b[0m         \u001b[0;32mif\u001b[0m \u001b[0mcalc_feature_importance\u001b[0m\u001b[0;34m:\u001b[0m\u001b[0;34m\u001b[0m\u001b[0m\n\u001b[1;32m    788\u001b[0m             \u001b[0;32mif\u001b[0m \u001b[0mallow_clear_pool\u001b[0m\u001b[0;34m:\u001b[0m\u001b[0;34m\u001b[0m\u001b[0m\n",
      "\u001b[0;32m_catboost.pyx\u001b[0m in \u001b[0;36m_catboost._CatBoostBase._train\u001b[0;34m()\u001b[0m\n",
      "\u001b[0;32m_catboost.pyx\u001b[0m in \u001b[0;36m_catboost._CatBoost._train\u001b[0;34m()\u001b[0m\n",
      "\u001b[0;32m_catboost.pyx\u001b[0m in \u001b[0;36m_catboost._CatBoost._train\u001b[0;34m()\u001b[0m\n",
      "\u001b[0;31mKeyboardInterrupt\u001b[0m: "
     ]
    }
   ],
   "source": [
    "n = 50\n",
    "models = []\n",
    "bagging_errors = []\n",
    "for i in range(n):\n",
    "    d = random.randint(3, 9)\n",
    "    itr = random.randint(2000, 3000)\n",
    "    l2lr = random.uniform(0.5, 5)\n",
    "    bt = random.uniform(0.5, 1)\n",
    "    print(\"Training model \", i + 1, \"/\", n, \" with depth=\", d, \" ...\", sep=\"\")\n",
    "    X_train, X_test, y_train, y_test = get_train_test(newds, sz=0.2)\n",
    "    models.append(catboost.CatBoostRegressor(bagging_temperature=bt,\n",
    "                                             l2_leaf_reg=l2lr,\n",
    "                                             loss_function=\"RMSE\",\n",
    "                                             iterations=itr,\n",
    "                                             depth=d,\n",
    "                                             verbose=False).fit(X_train, y_train))\n",
    "    bag_ret = (sum((models[i].predict(X_test) - y_test) ** 2) / len(X_test)) ** (1/2)\n",
    "    bagging_errors.append(bag_ret)\n",
    "    print(sum(bagging_errors) / (i + 1), end=\"\\n\\n\")\n",
    "print(\"Total baggin error:\", sum(bagging_errors) / n)"
   ]
  },
  {
   "cell_type": "code",
   "execution_count": 160,
   "metadata": {},
   "outputs": [
    {
     "data": {
      "text/plain": [
       "2.8141188309072245"
      ]
     },
     "execution_count": 160,
     "metadata": {},
     "output_type": "execute_result"
    }
   ],
   "source": [
    "random.uniform(0.5, 4)"
   ]
  },
  {
   "cell_type": "code",
   "execution_count": 121,
   "metadata": {},
   "outputs": [],
   "source": [
    "bag_return = []\n",
    "for model in models:\n",
    "    bag_return.append(model.predict(newds_tst))"
   ]
  },
  {
   "cell_type": "code",
   "execution_count": 134,
   "metadata": {},
   "outputs": [
    {
     "data": {
      "text/plain": [
       "array([651.55871405, 952.53885833, 333.08086269, ..., 155.78016929,\n",
       "       -90.13417307,  18.4383555 ])"
      ]
     },
     "execution_count": 134,
     "metadata": {},
     "output_type": "execute_result"
    }
   ],
   "source": [
    "(np.sum(bag_return, axis=0) / len(bag_return))"
   ]
  },
  {
   "cell_type": "code",
   "execution_count": 137,
   "metadata": {},
   "outputs": [],
   "source": [
    "pd.DataFrame({\"id\":range(len(newds_tst)), \"value\":(np.sum(bag_return, axis=0) / len(bag_return))}).to_csv(\"./cb-noparams20.csv\",\n",
    "                                                                                  encoding=\"utf-8\",\n",
    "                                                                                  index=False)"
   ]
  },
  {
   "cell_type": "markdown",
   "metadata": {},
   "source": [
    "# Невязки ошибки дерева, надо уменьшать variance"
   ]
  },
  {
   "cell_type": "code",
   "execution_count": 11,
   "metadata": {},
   "outputs": [
    {
     "data": {
      "text/plain": [
       "<matplotlib.axes._subplots.AxesSubplot at 0x7f5020c3ba58>"
      ]
     },
     "execution_count": 11,
     "metadata": {},
     "output_type": "execute_result"
    },
    {
     "data": {
      "image/png": "[encoded data removed]",
      "text/plain": [
       "<Figure size 432x288 with 1 Axes>"
      ]
     },
     "metadata": {},
     "output_type": "display_data"
    }
   ],
   "source": [
    "(cbr.predict(X_test) - y_test).plot.hist(bins=80)"
   ]
  },
  {
   "cell_type": "code",
   "execution_count": 12,
   "metadata": {},
   "outputs": [
    {
     "data": {
      "text/plain": [
       "Index(['spalen', 'price', 'mean_sq', 'mean_fl', 'month', 'month_cnt',\n",
       "       'Количество помещений', 'Огорожена территория',\n",
       "       'Площадь земельного участка', 'Детский сад', 'Школа', 'Поликлиника',\n",
       "       'ФОК', 'Автомойка', 'Кладовые', 'Колясочные', 'Кондиционирование',\n",
       "       'Вентлияция', 'Видеонаблюдение', 'Подземная парковка', 'Двор без машин',\n",
       "       'Машиномест', 'Площадь пром. зоны в радиусе 500 м',\n",
       "       'Площадь зеленой зоны в радиусе 500 м', 'До Кремля', 'До ТТК(км)',\n",
       "       'До Садового(км)', 'До большой дороги на машине(км)',\n",
       "       'До удобной авторазвязки на машине(км)', 'До метро пешком(км)',\n",
       "       'До промки(км)', 'До парка(км)', 'До парка пешком(км)',\n",
       "       'Станций метро от кольца', 'Площадь двора', 'Курс', 'Cтавка по ипотеке',\n",
       "       'Вклады до 1 года', 'Вклады от 1 года до 3 лет', 'Вклады свыше 3 лет',\n",
       "       'комфорт', 'стандарт', 'эконом'],\n",
       "      dtype='object')"
      ]
     },
     "execution_count": 12,
     "metadata": {},
     "output_type": "execute_result"
    }
   ],
   "source": [
    "X_train.columns"
   ]
  },
  {
   "cell_type": "code",
   "execution_count": 59,
   "metadata": {
    "scrolled": true
   },
   "outputs": [],
   "source": [
    "pd.DataFrame({\"id\":range(len(newds_tst)), \"value\":cbr.predict(newds_tst)}).to_csv(\"./cb-noparams18.csv\",\n",
    "                                                                                  encoding=\"utf-8\",\n",
    "                                                                                  index=False)"
   ]
  },
  {
   "cell_type": "markdown",
   "metadata": {},
   "source": [
    "# XGBoost"
   ]
  },
  {
   "cell_type": "code",
   "execution_count": 86,
   "metadata": {},
   "outputs": [
    {
     "data": {
      "text/plain": [
       "270.92984308393665"
      ]
     },
     "execution_count": 86,
     "metadata": {},
     "output_type": "execute_result"
    }
   ],
   "source": [
    "xgbm = xgb.XGBRegressor(max_depth=6)\n",
    "xgbm.fit(X_train, y_train)\n",
    "(sum((xgbm.predict(X_test) - y_test) ** 2) / len(X_test)) ** (1/2)"
   ]
  },
  {
   "cell_type": "code",
   "execution_count": 85,
   "metadata": {},
   "outputs": [],
   "source": [
    "pd.DataFrame({\"id\":range(len(newds_tst)), \"value\":xgbm.predict(newds_tst)}).to_csv(\"./cb-noparams19.csv\",\n",
    "                                                                                   encoding=\"utf-8\",\n",
    "                                                                                   index=False)"
   ]
  },
  {
   "cell_type": "markdown",
   "metadata": {},
   "source": [
    "# Нейросеть на Keras"
   ]
  },
  {
   "cell_type": "code",
   "execution_count": 24,
   "metadata": {},
   "outputs": [],
   "source": [
    "def root_mean_squared_error(y_true, y_pred):\n",
    "        return K.sqrt(K.mean(K.square(y_pred - y_true), axis=-1))"
   ]
  },
  {
   "cell_type": "code",
   "execution_count": 144,
   "metadata": {
    "scrolled": true
   },
   "outputs": [
    {
     "name": "stdout",
     "output_type": "stream",
     "text": [
      "Epoch 1/80\n",
      "6972/6972 [==============================] - 1s 148us/step - loss: 283.6422 - mean_absolute_error: 224.5612\n",
      "Epoch 2/80\n",
      "6972/6972 [==============================] - 0s 51us/step - loss: 248.9649 - mean_absolute_error: 223.2673\n",
      "Epoch 3/80\n",
      "6972/6972 [==============================] - 0s 53us/step - loss: 234.9825 - mean_absolute_error: 223.1264\n",
      "Epoch 4/80\n",
      "6972/6972 [==============================] - 0s 51us/step - loss: 229.3397 - mean_absolute_error: 223.1250\n",
      "Epoch 5/80\n",
      "6972/6972 [==============================] - 0s 54us/step - loss: 226.5574 - mean_absolute_error: 222.5577\n",
      "Epoch 6/80\n",
      "6972/6972 [==============================] - 0s 54us/step - loss: 224.8628 - mean_absolute_error: 221.5570\n",
      "Epoch 7/80\n",
      "6972/6972 [==============================] - 0s 56us/step - loss: 224.5999 - mean_absolute_error: 221.2717\n",
      "Epoch 8/80\n",
      "6972/6972 [==============================] - 0s 51us/step - loss: 224.0239 - mean_absolute_error: 220.3000\n",
      "Epoch 9/80\n",
      "6972/6972 [==============================] - 0s 54us/step - loss: 223.8557 - mean_absolute_error: 219.6319\n",
      "Epoch 10/80\n",
      "6972/6972 [==============================] - 0s 54us/step - loss: 223.5336 - mean_absolute_error: 219.1019\n",
      "Epoch 11/80\n",
      "6972/6972 [==============================] - 0s 57us/step - loss: 222.8534 - mean_absolute_error: 218.2750\n",
      "Epoch 12/80\n",
      "6972/6972 [==============================] - 0s 54us/step - loss: 223.8478 - mean_absolute_error: 219.1291\n",
      "Epoch 13/80\n",
      "6972/6972 [==============================] - 0s 58us/step - loss: 223.9187 - mean_absolute_error: 219.3645\n",
      "Epoch 14/80\n",
      "6972/6972 [==============================] - 0s 56us/step - loss: 222.9925 - mean_absolute_error: 218.4447\n",
      "Epoch 15/80\n",
      "6972/6972 [==============================] - 0s 62us/step - loss: 222.8799 - mean_absolute_error: 218.3973\n",
      "Epoch 16/80\n",
      "6972/6972 [==============================] - 0s 58us/step - loss: 223.0749 - mean_absolute_error: 218.7472\n",
      "Epoch 17/80\n",
      "6972/6972 [==============================] - 0s 58us/step - loss: 222.7884 - mean_absolute_error: 218.3841\n",
      "Epoch 18/80\n",
      "6972/6972 [==============================] - 0s 56us/step - loss: 223.0728 - mean_absolute_error: 218.6059\n",
      "Epoch 19/80\n",
      "6972/6972 [==============================] - 0s 56us/step - loss: 223.1723 - mean_absolute_error: 218.6759\n",
      "Epoch 20/80\n",
      "6972/6972 [==============================] - 0s 56us/step - loss: 222.7081 - mean_absolute_error: 218.3612\n",
      "Epoch 21/80\n",
      "6972/6972 [==============================] - 0s 56us/step - loss: 222.8324 - mean_absolute_error: 218.2970\n",
      "Epoch 22/80\n",
      "6972/6972 [==============================] - 0s 55us/step - loss: 222.8454 - mean_absolute_error: 218.4999\n",
      "Epoch 23/80\n",
      "6972/6972 [==============================] - 0s 57us/step - loss: 223.0347 - mean_absolute_error: 218.6972\n",
      "Epoch 24/80\n",
      "6972/6972 [==============================] - 0s 57us/step - loss: 222.8011 - mean_absolute_error: 218.4661\n",
      "Epoch 25/80\n",
      "6972/6972 [==============================] - 0s 57us/step - loss: 222.8020 - mean_absolute_error: 218.6127\n",
      "Epoch 26/80\n",
      "6972/6972 [==============================] - 0s 58us/step - loss: 223.0183 - mean_absolute_error: 218.6277\n",
      "Epoch 27/80\n",
      "6972/6972 [==============================] - 0s 59us/step - loss: 223.2204 - mean_absolute_error: 218.9560\n",
      "Epoch 28/80\n",
      "6972/6972 [==============================] - 0s 59us/step - loss: 223.4911 - mean_absolute_error: 219.1827\n",
      "Epoch 29/80\n",
      "6972/6972 [==============================] - 0s 59us/step - loss: 222.6205 - mean_absolute_error: 218.4312\n",
      "Epoch 30/80\n",
      "6972/6972 [==============================] - 0s 58us/step - loss: 222.4767 - mean_absolute_error: 218.2430\n",
      "Epoch 31/80\n",
      "6972/6972 [==============================] - 0s 58us/step - loss: 222.8472 - mean_absolute_error: 218.5232\n",
      "Epoch 32/80\n",
      "6972/6972 [==============================] - 0s 53us/step - loss: 223.0192 - mean_absolute_error: 218.8382\n",
      "Epoch 33/80\n",
      "6972/6972 [==============================] - 0s 56us/step - loss: 222.5691 - mean_absolute_error: 218.2059\n",
      "Epoch 34/80\n",
      "6972/6972 [==============================] - 0s 56us/step - loss: 223.2260 - mean_absolute_error: 219.0196\n",
      "Epoch 35/80\n",
      "6972/6972 [==============================] - 0s 53us/step - loss: 222.2010 - mean_absolute_error: 217.9285\n",
      "Epoch 36/80\n",
      "6972/6972 [==============================] - 0s 57us/step - loss: 222.5324 - mean_absolute_error: 218.4171\n",
      "Epoch 37/80\n",
      "6972/6972 [==============================] - 0s 56us/step - loss: 222.3269 - mean_absolute_error: 218.0493\n",
      "Epoch 38/80\n",
      "6972/6972 [==============================] - 0s 55us/step - loss: 222.9187 - mean_absolute_error: 218.8017\n",
      "Epoch 39/80\n",
      "6972/6972 [==============================] - 0s 58us/step - loss: 222.3312 - mean_absolute_error: 218.1478\n",
      "Epoch 40/80\n",
      "6972/6972 [==============================] - 0s 57us/step - loss: 223.6632 - mean_absolute_error: 219.5713\n",
      "Epoch 41/80\n",
      "6972/6972 [==============================] - 0s 61us/step - loss: 222.8142 - mean_absolute_error: 218.6440\n",
      "Epoch 42/80\n",
      "6972/6972 [==============================] - 0s 61us/step - loss: 223.0813 - mean_absolute_error: 218.7769\n",
      "Epoch 43/80\n",
      "6972/6972 [==============================] - 1s 75us/step - loss: 221.7447 - mean_absolute_error: 217.5307\n",
      "Epoch 44/80\n",
      "6972/6972 [==============================] - 0s 62us/step - loss: 222.7988 - mean_absolute_error: 218.5365\n",
      "Epoch 45/80\n",
      "6972/6972 [==============================] - 0s 62us/step - loss: 222.4704 - mean_absolute_error: 218.1292\n",
      "Epoch 46/80\n",
      "6972/6972 [==============================] - 0s 61us/step - loss: 222.9370 - mean_absolute_error: 218.6027\n",
      "Epoch 47/80\n",
      "6972/6972 [==============================] - 0s 64us/step - loss: 222.2010 - mean_absolute_error: 218.1587\n",
      "Epoch 48/80\n",
      "6972/6972 [==============================] - 0s 57us/step - loss: 223.4003 - mean_absolute_error: 219.1791\n",
      "Epoch 49/80\n",
      "6972/6972 [==============================] - 0s 56us/step - loss: 222.1233 - mean_absolute_error: 217.7885\n",
      "Epoch 50/80\n",
      "6972/6972 [==============================] - 0s 64us/step - loss: 223.2582 - mean_absolute_error: 219.0285\n",
      "Epoch 51/80\n",
      "6972/6972 [==============================] - 0s 59us/step - loss: 222.6379 - mean_absolute_error: 218.3867\n",
      "Epoch 52/80\n",
      "6972/6972 [==============================] - 0s 60us/step - loss: 222.6679 - mean_absolute_error: 218.2131\n",
      "Epoch 53/80\n",
      "6972/6972 [==============================] - 0s 71us/step - loss: 223.2991 - mean_absolute_error: 219.0546\n",
      "Epoch 54/80\n",
      "6972/6972 [==============================] - 0s 62us/step - loss: 223.2640 - mean_absolute_error: 218.9537\n",
      "Epoch 55/80\n",
      "6972/6972 [==============================] - 0s 57us/step - loss: 222.3232 - mean_absolute_error: 218.0745\n",
      "Epoch 56/80\n",
      "6972/6972 [==============================] - 0s 60us/step - loss: 222.6890 - mean_absolute_error: 218.5519\n",
      "Epoch 57/80\n",
      "6972/6972 [==============================] - 0s 62us/step - loss: 223.5437 - mean_absolute_error: 218.9461\n",
      "Epoch 58/80\n",
      "6972/6972 [==============================] - 0s 60us/step - loss: 222.6473 - mean_absolute_error: 218.4219\n",
      "Epoch 59/80\n",
      "6972/6972 [==============================] - 0s 64us/step - loss: 223.2525 - mean_absolute_error: 219.0382\n",
      "Epoch 60/80\n",
      "6972/6972 [==============================] - 0s 70us/step - loss: 223.1083 - mean_absolute_error: 218.9617\n",
      "Epoch 61/80\n",
      "6972/6972 [==============================] - 0s 61us/step - loss: 222.7206 - mean_absolute_error: 218.2661\n",
      "Epoch 62/80\n",
      "6972/6972 [==============================] - 0s 63us/step - loss: 222.4934 - mean_absolute_error: 218.3653\n",
      "Epoch 63/80\n",
      "6972/6972 [==============================] - 0s 59us/step - loss: 222.7513 - mean_absolute_error: 218.4490\n",
      "Epoch 64/80\n",
      "6972/6972 [==============================] - 0s 61us/step - loss: 222.4574 - mean_absolute_error: 218.1044\n",
      "Epoch 65/80\n",
      "6972/6972 [==============================] - 0s 61us/step - loss: 222.5228 - mean_absolute_error: 218.2409\n",
      "Epoch 66/80\n",
      "6972/6972 [==============================] - 0s 61us/step - loss: 222.7321 - mean_absolute_error: 218.4986\n",
      "Epoch 67/80\n",
      "6972/6972 [==============================] - 0s 61us/step - loss: 223.6565 - mean_absolute_error: 219.5099\n",
      "Epoch 68/80\n",
      "6972/6972 [==============================] - 0s 60us/step - loss: 222.8481 - mean_absolute_error: 218.7158\n",
      "Epoch 69/80\n",
      "6972/6972 [==============================] - 0s 55us/step - loss: 222.7477 - mean_absolute_error: 218.5606\n",
      "Epoch 70/80\n",
      "6972/6972 [==============================] - 0s 49us/step - loss: 222.8814 - mean_absolute_error: 218.5967\n",
      "Epoch 71/80\n",
      "6972/6972 [==============================] - 0s 54us/step - loss: 222.3811 - mean_absolute_error: 218.5026\n",
      "Epoch 72/80\n",
      "6972/6972 [==============================] - 0s 54us/step - loss: 222.1895 - mean_absolute_error: 218.1456\n",
      "Epoch 73/80\n",
      "6972/6972 [==============================] - 0s 51us/step - loss: 222.7013 - mean_absolute_error: 218.6560\n",
      "Epoch 74/80\n",
      "6972/6972 [==============================] - 0s 51us/step - loss: 222.4346 - mean_absolute_error: 218.2940\n",
      "Epoch 75/80\n",
      "6972/6972 [==============================] - 0s 52us/step - loss: 222.6452 - mean_absolute_error: 218.6045\n",
      "Epoch 76/80\n",
      "6972/6972 [==============================] - 0s 51us/step - loss: 222.1982 - mean_absolute_error: 217.9153\n",
      "Epoch 77/80\n",
      "6972/6972 [==============================] - 0s 50us/step - loss: 222.8341 - mean_absolute_error: 218.7843\n",
      "Epoch 78/80\n",
      "6972/6972 [==============================] - 0s 56us/step - loss: 223.2285 - mean_absolute_error: 219.2284\n",
      "Epoch 79/80\n",
      "6972/6972 [==============================] - 0s 50us/step - loss: 222.8661 - mean_absolute_error: 218.8670\n",
      "Epoch 80/80\n",
      "6972/6972 [==============================] - 0s 52us/step - loss: 222.2741 - mean_absolute_error: 218.1979\n"
     ]
    }
   ],
   "source": [
    "nn = Sequential()\n",
    "nn.add(Dense(43, kernel_regularizer=regularizers.l2(1), activation=\"selu\", input_shape=(43, )))\n",
    "nn.add(Dense(43, kernel_regularizer=regularizers.l2(1), activation=\"selu\", input_shape=(35, )))\n",
    "nn.add(Dense(1,  activation=\"linear\", input_shape=(43, )))\n",
    "opt = optimizers.sgd(lr=0.001, momentum=0.01)\n",
    "nn.compile(optimizer=opt, loss=\"mae\", metrics=[\"mae\"])\n",
    "history = nn.fit(X_train, y_train, epochs=80)"
   ]
  },
  {
   "cell_type": "code",
   "execution_count": 145,
   "metadata": {},
   "outputs": [
    {
     "data": {
      "text/plain": [
       "[<matplotlib.lines.Line2D at 0x7f4fdf744470>]"
      ]
     },
     "execution_count": 145,
     "metadata": {},
     "output_type": "execute_result"
    },
    {
     "data": {
      "image/png": "[encoded data removed]",
      "text/plain": [
       "<Figure size 432x288 with 1 Axes>"
      ]
     },
     "metadata": {},
     "output_type": "display_data"
    }
   ],
   "source": [
    "plt.plot(range(history.history[\"loss\"].__len__()), history.history[\"loss\"])"
   ]
  },
  {
   "cell_type": "code",
   "execution_count": 143,
   "metadata": {
    "scrolled": true
   },
   "outputs": [
    {
     "data": {
      "text/plain": [
       "407.99802816540983"
      ]
     },
     "execution_count": 143,
     "metadata": {},
     "output_type": "execute_result"
    }
   ],
   "source": [
    "(sum((nn.predict(X_test).reshape(1, -1)[0] - y_test) ** 2) / len(X_test)) ** (1/2)"
   ]
  },
  {
   "cell_type": "code",
   "execution_count": 148,
   "metadata": {},
   "outputs": [
    {
     "data": {
      "text/plain": [
       "array([[ 90.682274],\n",
       "       [173.67583 ],\n",
       "       [141.31877 ],\n",
       "       ...,\n",
       "       [199.4697  ],\n",
       "       [182.31056 ],\n",
       "       [154.75804 ]], dtype=float32)"
      ]
     },
     "execution_count": 148,
     "metadata": {},
     "output_type": "execute_result"
    }
   ],
   "source": [
    "nn.predict(X_test)"
   ]
  },
  {
   "cell_type": "code",
   "execution_count": null,
   "metadata": {},
   "outputs": [],
   "source": []
  }
 ],
 "metadata": {
  "kernelspec": {
   "display_name": "Python 3",
   "language": "python",
   "name": "python3"
  },
  "language_info": {
   "codemirror_mode": {
    "name": "ipython",
    "version": 3
   },
   "file_extension": ".py",
   "mimetype": "text/x-python",
   "name": "python",
   "nbconvert_exporter": "python",
   "pygments_lexer": "ipython3",
   "version": "3.6.5"
  }
 },
 "nbformat": 4,
 "nbformat_minor": 2
}
